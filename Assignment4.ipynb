{
 "cells": [
  {
   "cell_type": "markdown",
   "metadata": {},
   "source": [
    "Write a Python function which takes a character (i.e. a string of length 1) and returns True if\n",
    "it is a vowel, False otherwise."
   ]
  },
  {
   "cell_type": "code",
   "execution_count": 1,
   "metadata": {},
   "outputs": [],
   "source": [
    "def is_vowel(c):\n",
    "    return c in ['a','e','i','o','u']"
   ]
  },
  {
   "cell_type": "code",
   "execution_count": 4,
   "metadata": {},
   "outputs": [
    {
     "name": "stdout",
     "output_type": "stream",
     "text": [
      "False\n",
      "False\n",
      "True\n"
     ]
    }
   ],
   "source": [
    "print(is_vowel('v'))\n",
    "print(is_vowel('as'))\n",
    "print(is_vowel('a'))"
   ]
  },
  {
   "cell_type": "markdown",
   "metadata": {},
   "source": [
    " Write  a  Python  program  using  function  concept  that  maps  list  of  words  into  a\n",
    "list  of  integers representing  the  lengths  of  the  corresponding  words.\n",
    "\n",
    "Hint:  If  a  list  [  ab,cde,erty]  is  passed  on  to  the  python  \n",
    "function  output  should  come  as  [2,3,4] \n",
    "Here  2,3  and  4  are  the  lengths  of  the  words  in  the  list. "
   ]
  },
  {
   "cell_type": "code",
   "execution_count": 20,
   "metadata": {},
   "outputs": [],
   "source": [
    "def mapper(items):\n",
    "    return [i for i in map(lambda x:len(x),items)]"
   ]
  },
  {
   "cell_type": "code",
   "execution_count": 21,
   "metadata": {},
   "outputs": [
    {
     "data": {
      "text/plain": [
       "[2, 3, 4]"
      ]
     },
     "execution_count": 21,
     "metadata": {},
     "output_type": "execute_result"
    }
   ],
   "source": [
    "mapper(['ab',\"cde\",\"erty\"])"
   ]
  },
  {
   "cell_type": "markdown",
   "metadata": {},
   "source": [
    "Write  a  function  filter_long_words()  that  takes  a  list  of  words  and  an  integer  n  and  returns the  list  of  words  that  are  longer  than  n. "
   ]
  },
  {
   "cell_type": "code",
   "execution_count": 22,
   "metadata": {},
   "outputs": [],
   "source": [
    "def filter_long_words(words,num):\n",
    "    return [i for i in filter(lambda x:len(x)>num,words)]\n",
    "    "
   ]
  },
  {
   "cell_type": "code",
   "execution_count": 24,
   "metadata": {},
   "outputs": [
    {
     "data": {
      "text/plain": [
       "['Science', 'Cmputing']"
      ]
     },
     "execution_count": 24,
     "metadata": {},
     "output_type": "execute_result"
    }
   ],
   "source": [
    "filter_long_words([\"A\",\"Data\",\"Science\",\"Cloud\",\"Cmputing\",\"iNue\"],5)"
   ]
  },
  {
   "cell_type": "markdown",
   "metadata": {},
   "source": [
    "Write  a  Python  Program(with  class  concepts)  to  find  the  area  of  the  triangle  using  the  below formula. area  =  (s*(s-a)*(s-b)*(s-c))  **  0.5 "
   ]
  },
  {
   "cell_type": "code",
   "execution_count": 92,
   "metadata": {},
   "outputs": [],
   "source": [
    "class Triangle():\n",
    "    def __init__(self,a,b,c):\n",
    "        self.side_a=a\n",
    "        self.side_b=b\n",
    "        self.side_c=c\n",
    "        self.semi_perimeter=(a+b+c)/2\n",
    "    def area(self):\n",
    "        return (self.semi_perimeter*(self.semi_perimeter-self.side_a)*(self.semi_perimeter-self.side_b)*(self.semi_perimeter-self.side_c))**0.5"
   ]
  },
  {
   "cell_type": "code",
   "execution_count": 96,
   "metadata": {},
   "outputs": [
    {
     "data": {
      "text/plain": [
       "6.0"
      ]
     },
     "execution_count": 96,
     "metadata": {},
     "output_type": "execute_result"
    }
   ],
   "source": [
    "t= Triangle(3,5,4)\n",
    "#t.__dict__\n",
    "t.area()"
   ]
  }
 ],
 "metadata": {
  "kernelspec": {
   "display_name": "Python 3",
   "language": "python",
   "name": "python3"
  },
  "language_info": {
   "codemirror_mode": {
    "name": "ipython",
    "version": 3
   },
   "file_extension": ".py",
   "mimetype": "text/x-python",
   "name": "python",
   "nbconvert_exporter": "python",
   "pygments_lexer": "ipython3",
   "version": "3.7.1"
  }
 },
 "nbformat": 4,
 "nbformat_minor": 2
}
